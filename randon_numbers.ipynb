{
 "cells": [
  {
   "cell_type": "code",
   "execution_count": 1,
   "id": "f4350dea",
   "metadata": {},
   "outputs": [],
   "source": [
    "import random"
   ]
  },
  {
   "cell_type": "code",
   "execution_count": 3,
   "id": "2f0fa7a9",
   "metadata": {},
   "outputs": [
    {
     "data": {
      "text/plain": [
       "33"
      ]
     },
     "execution_count": 3,
     "metadata": {},
     "output_type": "execute_result"
    }
   ],
   "source": [
    "random.randint(-90, 90)"
   ]
  },
  {
   "cell_type": "code",
   "execution_count": 11,
   "id": "c4090c7f",
   "metadata": {},
   "outputs": [
    {
     "data": {
      "text/plain": [
       "0.09270240120338114"
      ]
     },
     "execution_count": 11,
     "metadata": {},
     "output_type": "execute_result"
    }
   ],
   "source": [
    "random.random()"
   ]
  },
  {
   "cell_type": "code",
   "execution_count": 14,
   "id": "b5e496bf",
   "metadata": {},
   "outputs": [
    {
     "data": {
      "text/plain": [
       "[-18.871399370664076,\n",
       " -9.357562533408586,\n",
       " -63.29694910153141,\n",
       " 28.711888602577265,\n",
       " -18.25110604613001,\n",
       " -62.50582249838269,\n",
       " -47.85024901678518,\n",
       " -43.777120546147614,\n",
       " 18.137861319563484,\n",
       " -57.59357281406468]"
      ]
     },
     "execution_count": 14,
     "metadata": {},
     "output_type": "execute_result"
    }
   ],
   "source": [
    "x=1\n",
    "\n",
    "# Create list\n",
    "latitudes = []\n",
    "\n",
    "# Create while loop to generate random latitude\n",
    "while x < 11:\n",
    "    random_lat = random.randint(-90,89) + random.random()\n",
    "    latitudes.append(random_lat)\n",
    "    x+= 1\n",
    "    \n",
    "latitudes"
   ]
  },
  {
   "cell_type": "code",
   "execution_count": 21,
   "id": "8a69a617",
   "metadata": {},
   "outputs": [
    {
     "data": {
      "text/plain": [
       "54"
      ]
     },
     "execution_count": 21,
     "metadata": {},
     "output_type": "execute_result"
    }
   ],
   "source": [
    "random.randrange(-90, 90, step=1)"
   ]
  },
  {
   "cell_type": "code",
   "execution_count": 26,
   "id": "85b61875",
   "metadata": {},
   "outputs": [
    {
     "data": {
      "text/plain": [
       "-72"
      ]
     },
     "execution_count": 26,
     "metadata": {},
     "output_type": "execute_result"
    }
   ],
   "source": [
    "random.randrange(-90, 90, step=3)"
   ]
  },
  {
   "cell_type": "code",
   "execution_count": 27,
   "id": "a1709644",
   "metadata": {},
   "outputs": [
    {
     "data": {
      "text/plain": [
       "87.11570456506152"
      ]
     },
     "execution_count": 27,
     "metadata": {},
     "output_type": "execute_result"
    }
   ],
   "source": [
    "random.uniform(-90, 90)"
   ]
  },
  {
   "cell_type": "code",
   "execution_count": 28,
   "id": "16ac2447",
   "metadata": {},
   "outputs": [],
   "source": [
    "# Import the NumPy module.\n",
    "import numpy as np"
   ]
  },
  {
   "cell_type": "code",
   "execution_count": 29,
   "id": "e78c4575",
   "metadata": {},
   "outputs": [
    {
     "data": {
      "text/plain": [
       "-25.814942845031155"
      ]
     },
     "execution_count": 29,
     "metadata": {},
     "output_type": "execute_result"
    }
   ],
   "source": [
    "np.random.uniform(-90.000, 90.000)"
   ]
  },
  {
   "cell_type": "code",
   "execution_count": 30,
   "id": "6e66eeea",
   "metadata": {},
   "outputs": [
    {
     "data": {
      "text/plain": [
       "45.56543985498635"
      ]
     },
     "execution_count": 30,
     "metadata": {},
     "output_type": "execute_result"
    }
   ],
   "source": [
    "# Another option is to write the parameters\n",
    "np.random.uniform(low=-90, high=90)"
   ]
  },
  {
   "cell_type": "code",
   "execution_count": 31,
   "id": "de75bac1",
   "metadata": {},
   "outputs": [
    {
     "data": {
      "text/plain": [
       "array([ 57.34348005,  74.89557545,  25.77483218,  36.30867544,\n",
       "       -72.46674078,  86.11212285, -79.72638397,  23.16940372,\n",
       "       -13.17741368, -63.47861228,  10.34400926,  -1.4901687 ,\n",
       "       -65.93088524, -53.82992788,  44.55700545, -50.49474072,\n",
       "        22.60081816, -69.32195431, -56.21116166, -70.75887729,\n",
       "       -55.3667253 , -72.68630005,  -8.0686356 ,  39.09432316,\n",
       "       -23.76379242, -37.94243345,  59.29963025,  -3.2904601 ,\n",
       "       -75.93220258, -10.2196227 ,  -2.99088239,  55.62953656,\n",
       "       -66.49030131, -54.79165586,  39.8976546 ,   2.35392679,\n",
       "       -27.8179503 , -44.12226757,  11.16721099, -70.22178493,\n",
       "        44.22313406, -42.52123233,  50.29598175, -87.66073381,\n",
       "       -24.66291325,  51.63087154,  15.45025339, -67.55667904,\n",
       "        75.77470131, -23.36214345])"
      ]
     },
     "execution_count": 31,
     "metadata": {},
     "output_type": "execute_result"
    }
   ],
   "source": [
    "np.random.uniform(-90.000, 90.000, size=50)"
   ]
  },
  {
   "cell_type": "code",
   "execution_count": 32,
   "id": "93c7016a",
   "metadata": {},
   "outputs": [],
   "source": [
    "# Import timeit.\n",
    "import timeit"
   ]
  },
  {
   "cell_type": "code",
   "execution_count": 33,
   "id": "754ad783",
   "metadata": {},
   "outputs": [
    {
     "name": "stdout",
     "output_type": "stream",
     "text": [
      "9.67 µs ± 56.1 ns per loop (mean ± std. dev. of 7 runs, 100000 loops each)\n"
     ]
    }
   ],
   "source": [
    "%timeit np.random.uniform(-90.000, 90.000, size=1500)"
   ]
  },
  {
   "cell_type": "code",
   "execution_count": 39,
   "id": "090560ae",
   "metadata": {},
   "outputs": [
    {
     "name": "stdout",
     "output_type": "stream",
     "text": [
      "1.26 ms ± 17.9 µs per loop (mean ± std. dev. of 7 runs, 1000 loops each)\n"
     ]
    }
   ],
   "source": [
    "def latitudes(size):\n",
    "    latitudes = []\n",
    "    x = 0\n",
    "    while x < 1500:\n",
    "        random_lat = random.randint(-90, 90) + random.random()\n",
    "        latitudes.append(random_lat)\n",
    "        x += 1\n",
    "    return latitudes\n",
    "# Call the function with 1500.\n",
    "%timeit latitudes(1500)"
   ]
  },
  {
   "cell_type": "code",
   "execution_count": null,
   "id": "eef11fa3",
   "metadata": {},
   "outputs": [],
   "source": []
  }
 ],
 "metadata": {
  "kernelspec": {
   "display_name": "Python 3 (ipykernel)",
   "language": "python",
   "name": "python3"
  },
  "language_info": {
   "codemirror_mode": {
    "name": "ipython",
    "version": 3
   },
   "file_extension": ".py",
   "mimetype": "text/x-python",
   "name": "python",
   "nbconvert_exporter": "python",
   "pygments_lexer": "ipython3",
   "version": "3.7.11"
  }
 },
 "nbformat": 4,
 "nbformat_minor": 5
}
